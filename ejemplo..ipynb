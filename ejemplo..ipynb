{
 "metadata": {
  "name": "",
  "signature": "sha256:e923deac402b851a29b6a5d6316365c6b1a6c5954fdedbd722adbc64930e04dd"
 },
 "nbformat": 3,
 "nbformat_minor": 0,
 "worksheets": [
  {
   "cells": [
    {
     "cell_type": "code",
     "collapsed": false,
     "input": [
      "\"Tarefa 2 (Topicos de e-Science)\\\\\n",
      "una de las masgrande\""
     ],
     "language": "python",
     "metadata": {},
     "outputs": [
      {
       "metadata": {},
       "output_type": "pyout",
       "prompt_number": 21,
       "text": [
        "'Tarefa 2 (Topicos de e-Science)\\\\una de las masgrande'"
       ]
      }
     ],
     "prompt_number": 21
    }
   ],
   "metadata": {}
  }
 ]
}
